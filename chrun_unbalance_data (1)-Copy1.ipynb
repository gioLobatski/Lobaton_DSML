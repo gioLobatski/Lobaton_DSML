{
 "cells": [
  {
   "cell_type": "code",
   "execution_count": null,
   "metadata": {
    "id": "wO8dkfvSnYuE"
   },
   "outputs": [],
   "source": [
    "import pandas as pd\n",
    "from matplotlib import pyplot as plt\n",
    "import numpy as np\n",
    "%matplotlib inline"
   ]
  },
  {
   "cell_type": "code",
   "execution_count": null,
   "metadata": {
    "colab": {
     "base_uri": "https://localhost:8080/",
     "height": 342
    },
    "id": "Q02mMY0YpCix",
    "outputId": "1feb7604-09b1-4ff7-dd89-eeb98dc8dae2"
   },
   "outputs": [],
   "source": [
    "df = pd.read_csv(\"/content/customer_churn.csv\")\n",
    "df.sample(5)"
   ]
  },
  {
   "cell_type": "code",
   "execution_count": null,
   "metadata": {
    "id": "oqn0IJZjpMmt"
   },
   "outputs": [],
   "source": [
    "df.drop('customerID',axis='columns',inplace=True)"
   ]
  },
  {
   "cell_type": "code",
   "execution_count": null,
   "metadata": {
    "colab": {
     "base_uri": "https://localhost:8080/"
    },
    "id": "EuDLMYBzpclG",
    "outputId": "1a7d3555-6fd5-48bc-a289-6a555ea5393c"
   },
   "outputs": [],
   "source": [
    "df.dtypes"
   ]
  },
  {
   "cell_type": "code",
   "execution_count": null,
   "metadata": {
    "colab": {
     "base_uri": "https://localhost:8080/"
    },
    "id": "5FBc2660pdyb",
    "outputId": "a56bdbfe-ac76-4e9c-c403-41e02bf35d24"
   },
   "outputs": [],
   "source": [
    "df.TotalCharges.values"
   ]
  },
  {
   "cell_type": "code",
   "execution_count": null,
   "metadata": {
    "id": "oBS9sjDSprT_"
   },
   "outputs": [],
   "source": [
    "#pd.to_numeric(df.TotalCharges)"
   ]
  },
  {
   "cell_type": "code",
   "execution_count": null,
   "metadata": {
    "colab": {
     "base_uri": "https://localhost:8080/"
    },
    "id": "MhvPgw3qp4Kq",
    "outputId": "f14cdd2a-ab9e-4d96-ceea-6130ed08cdb1"
   },
   "outputs": [],
   "source": [
    "pd.to_numeric(df.TotalCharges,errors='coerce').isnull()"
   ]
  },
  {
   "cell_type": "code",
   "execution_count": null,
   "metadata": {
    "colab": {
     "base_uri": "https://localhost:8080/",
     "height": 570
    },
    "id": "MSovbqhFqRw1",
    "outputId": "3bf1cfb5-ab4d-4c2f-a723-a59de3da1e17"
   },
   "outputs": [],
   "source": [
    "df[pd.to_numeric(df.TotalCharges,errors='coerce').isnull()]"
   ]
  },
  {
   "cell_type": "code",
   "execution_count": null,
   "metadata": {
    "colab": {
     "base_uri": "https://localhost:8080/"
    },
    "id": "775gWPWhqfCi",
    "outputId": "552857c9-ff9a-4b7a-cb3c-062aa96c2a5d"
   },
   "outputs": [],
   "source": [
    "df.shape"
   ]
  },
  {
   "cell_type": "code",
   "execution_count": null,
   "metadata": {
    "colab": {
     "base_uri": "https://localhost:8080/",
     "height": 36
    },
    "id": "Aesa7N-KqmPw",
    "outputId": "a82b4f65-f789-4232-ffbd-7c29ff945868"
   },
   "outputs": [],
   "source": [
    "df.iloc[489].TotalCharges"
   ]
  },
  {
   "cell_type": "code",
   "execution_count": null,
   "metadata": {
    "colab": {
     "base_uri": "https://localhost:8080/"
    },
    "id": "G01AB-Opq3QJ",
    "outputId": "e30b739b-25b2-4d53-a82a-e5a4d1839277"
   },
   "outputs": [],
   "source": [
    "df[df.TotalCharges!=' '].shape"
   ]
  },
  {
   "cell_type": "code",
   "execution_count": null,
   "metadata": {
    "colab": {
     "base_uri": "https://localhost:8080/"
    },
    "id": "jDZX_DpUrLcn",
    "outputId": "906b195e-9b97-4f6f-f9b6-be36a6ce91fa"
   },
   "outputs": [],
   "source": [
    "df1 = df[df.TotalCharges!=' ']\n",
    "df1.shape"
   ]
  },
  {
   "cell_type": "code",
   "execution_count": null,
   "metadata": {
    "colab": {
     "base_uri": "https://localhost:8080/"
    },
    "id": "NT_ffyRAra1S",
    "outputId": "e027c435-f0bc-4e05-dac6-9531045bc270"
   },
   "outputs": [],
   "source": [
    "df1.dtypes"
   ]
  },
  {
   "cell_type": "code",
   "execution_count": null,
   "metadata": {
    "colab": {
     "base_uri": "https://localhost:8080/"
    },
    "id": "lDwYc1HJrfG1",
    "outputId": "fefecebe-9302-44bf-b740-836819972cd9"
   },
   "outputs": [],
   "source": [
    "df1.TotalCharges = pd.to_numeric(df1.TotalCharges)"
   ]
  },
  {
   "cell_type": "code",
   "execution_count": null,
   "metadata": {
    "colab": {
     "base_uri": "https://localhost:8080/"
    },
    "id": "RX2uVqpVrn0o",
    "outputId": "aa0bf843-7b32-4e3e-dc8f-c61b5e0d291b"
   },
   "outputs": [],
   "source": [
    "df1.TotalCharges.values"
   ]
  },
  {
   "cell_type": "code",
   "execution_count": null,
   "metadata": {
    "colab": {
     "base_uri": "https://localhost:8080/",
     "height": 582
    },
    "id": "sVl5tZvJruTC",
    "outputId": "d86d1147-5864-4d4f-bd27-10db0c1740c4"
   },
   "outputs": [],
   "source": [
    "df[df.Churn=='No']"
   ]
  },
  {
   "cell_type": "code",
   "execution_count": null,
   "metadata": {
    "colab": {
     "base_uri": "https://localhost:8080/",
     "height": 490
    },
    "id": "VMR9ylPHsDg1",
    "outputId": "0892c7d9-5ad8-4952-d56d-76753df37551"
   },
   "outputs": [],
   "source": [
    "tenure_churn_no = df1[df1.Churn=='No'].tenure\n",
    "tenure_churn_yes = df1[df1.Churn=='Yes'].tenure\n",
    "\n",
    "plt.xlabel(\"tenure\")\n",
    "plt.ylabel(\"Number of Customers\")\n",
    "plt.title(\"Churn Prediction Visualization\")\n",
    "\n",
    "plt.hist([tenure_churn_yes, tenure_churn_no],rwidth=0.95, color=['green','red'],label=['Churn=Yes','Churn=No'])\n",
    "plt.legend()"
   ]
  },
  {
   "cell_type": "code",
   "execution_count": null,
   "metadata": {
    "colab": {
     "base_uri": "https://localhost:8080/",
     "height": 490
    },
    "id": "xtlxTayWs4WM",
    "outputId": "64b19bf1-f895-40bf-8777-9d4778518492"
   },
   "outputs": [],
   "source": [
    "mc_churn_no = df1[df1.Churn=='No'].MonthlyCharges\n",
    "mc_churn_yes = df1[df1.Churn=='Yes'].MonthlyCharges\n",
    "\n",
    "plt.xlabel(\"Monthly Charges\")\n",
    "plt.ylabel(\"Number Of Customers\")\n",
    "plt.title(\"Customer Churn Prediction Visualiztion\")\n",
    "\n",
    "plt.hist([mc_churn_yes, mc_churn_no], rwidth=0.95, color=['green','red'],label=['Churn=Yes','Churn=No'])\n",
    "plt.legend()"
   ]
  },
  {
   "cell_type": "code",
   "execution_count": null,
   "metadata": {
    "id": "Z1timfW8uQ3r"
   },
   "outputs": [],
   "source": [
    "def print_unique_col_values(df):\n",
    "    for column in df:\n",
    "        if df[column].dtypes=='object':\n",
    "            print(f'{column}: {df[column].unique()}')"
   ]
  },
  {
   "cell_type": "code",
   "execution_count": null,
   "metadata": {
    "colab": {
     "base_uri": "https://localhost:8080/"
    },
    "id": "fsN43c_RvcBG",
    "outputId": "5283f215-836f-4c20-f399-8a42cde26d33"
   },
   "outputs": [],
   "source": [
    "print_unique_col_values(df1)"
   ]
  },
  {
   "cell_type": "code",
   "execution_count": null,
   "metadata": {
    "colab": {
     "base_uri": "https://localhost:8080/"
    },
    "id": "kb1kA9y8vjSB",
    "outputId": "d0c0bdc3-4db4-4123-cea3-d3394d2a1a2d"
   },
   "outputs": [],
   "source": [
    "df1.replace('No internet service','No',inplace=True)\n",
    "df1.replace('No phone service','No',inplace=True)"
   ]
  },
  {
   "cell_type": "code",
   "execution_count": null,
   "metadata": {
    "colab": {
     "base_uri": "https://localhost:8080/"
    },
    "id": "gT-bHyBmwPm2",
    "outputId": "c8d109eb-2277-4162-a69d-a1557b7a66cb"
   },
   "outputs": [],
   "source": [
    "print_unique_col_values(df1)"
   ]
  },
  {
   "cell_type": "code",
   "execution_count": null,
   "metadata": {
    "colab": {
     "base_uri": "https://localhost:8080/"
    },
    "id": "l9z_BHF6wSJV",
    "outputId": "023763d1-9afa-4461-b6ad-0e9d253cbe19"
   },
   "outputs": [],
   "source": [
    "yes_no_columns = ['Partner','Dependents','PhoneService','MultipleLines','OnlineSecurity','OnlineBackup',\n",
    "                  'DeviceProtection','TechSupport','StreamingTV','StreamingMovies','PaperlessBilling','Churn']\n",
    "\n",
    "for col in yes_no_columns:\n",
    "    df1[col].replace({'Yes' : 1, 'No' : 0},inplace=True)"
   ]
  },
  {
   "cell_type": "code",
   "execution_count": null,
   "metadata": {
    "colab": {
     "base_uri": "https://localhost:8080/"
    },
    "id": "OpYx7rFixHiV",
    "outputId": "642f8e4f-5711-461b-bbbe-6620a0576245"
   },
   "outputs": [],
   "source": [
    "for col in df1:\n",
    "    print(f'{col}: {df1[col].unique()}')"
   ]
  },
  {
   "cell_type": "code",
   "execution_count": null,
   "metadata": {
    "colab": {
     "base_uri": "https://localhost:8080/"
    },
    "id": "GZamUOLbxThz",
    "outputId": "4fc1deab-53a4-4286-e7ba-4df06867cc2e"
   },
   "outputs": [],
   "source": [
    "df1['gender'].replace({'Female' : 1, 'Male' : 0}, inplace=True)"
   ]
  },
  {
   "cell_type": "code",
   "execution_count": null,
   "metadata": {
    "colab": {
     "base_uri": "https://localhost:8080/"
    },
    "id": "JOk4jmMTxm-x",
    "outputId": "e141ecbf-c20d-408b-a72a-f60878e69976"
   },
   "outputs": [],
   "source": [
    "df1.gender.unique()"
   ]
  },
  {
   "cell_type": "code",
   "execution_count": null,
   "metadata": {
    "colab": {
     "base_uri": "https://localhost:8080/"
    },
    "id": "qPS5Bky1xqo4",
    "outputId": "12c51f88-1906-4a96-fd66-ac6df4fa29b9"
   },
   "outputs": [],
   "source": [
    "for col in df1:\n",
    "    print(f'{col}: {df1[col].unique()}')"
   ]
  },
  {
   "cell_type": "code",
   "execution_count": null,
   "metadata": {
    "colab": {
     "base_uri": "https://localhost:8080/"
    },
    "id": "AtvHCVlYx3ky",
    "outputId": "1ebe1cdb-6d41-40f3-bcfe-434e8f2b55c1"
   },
   "outputs": [],
   "source": [
    "df2 = pd.get_dummies(data=df1, columns=['InternetService','Contract', 'PaymentMethod'])\n",
    "df2.columns"
   ]
  },
  {
   "cell_type": "code",
   "execution_count": null,
   "metadata": {
    "colab": {
     "base_uri": "https://localhost:8080/",
     "height": 290
    },
    "id": "N9QXR_DGzKRZ",
    "outputId": "cb16e992-721b-42b5-ec0a-d274319f6dde"
   },
   "outputs": [],
   "source": [
    "df2.sample(5)"
   ]
  },
  {
   "cell_type": "code",
   "execution_count": null,
   "metadata": {
    "colab": {
     "base_uri": "https://localhost:8080/"
    },
    "id": "HcWlbll_zXHX",
    "outputId": "e177d253-28d6-4816-e7b8-93d8c758e0cb"
   },
   "outputs": [],
   "source": [
    "df2.dtypes"
   ]
  },
  {
   "cell_type": "code",
   "execution_count": null,
   "metadata": {
    "colab": {
     "base_uri": "https://localhost:8080/"
    },
    "id": "VwZMrRPazcKX",
    "outputId": "3b29c5a6-29c8-4969-d4fe-2b9f06665f28"
   },
   "outputs": [],
   "source": [
    "for col in df2:\n",
    "    print(f'{col}: {df2[col].unique()}')"
   ]
  },
  {
   "cell_type": "code",
   "execution_count": null,
   "metadata": {
    "id": "rbIx3jnozmtX"
   },
   "outputs": [],
   "source": [
    "cols_to_scale = ['tenure','MonthlyCharges','TotalCharges']\n",
    "\n",
    "from sklearn.preprocessing import MinMaxScaler\n",
    "scaler = MinMaxScaler()\n",
    "df2[cols_to_scale] = scaler.fit_transform(df2[cols_to_scale])"
   ]
  },
  {
   "cell_type": "code",
   "execution_count": null,
   "metadata": {
    "colab": {
     "base_uri": "https://localhost:8080/"
    },
    "id": "oCb8ssHF0aZs",
    "outputId": "df203732-41d3-4bd1-fe35-ea52d535bf99"
   },
   "outputs": [],
   "source": [
    "for col in df2:\n",
    "    print(f'{col}: {df2[col].unique()}')"
   ]
  },
  {
   "cell_type": "code",
   "execution_count": null,
   "metadata": {
    "id": "GdeyCjDt0frd"
   },
   "outputs": [],
   "source": [
    "X = df2.drop('Churn',axis='columns')\n",
    "y = df2['Churn']\n",
    "\n",
    "from sklearn.model_selection import train_test_split\n",
    "X_train, X_test, y_train, y_test = train_test_split(X,y,test_size=0.2,random_state=5)"
   ]
  },
  {
   "cell_type": "code",
   "execution_count": null,
   "metadata": {
    "colab": {
     "base_uri": "https://localhost:8080/"
    },
    "id": "eONGYBlL0q0B",
    "outputId": "7fd10431-705a-4996-b0d7-ca284d55798d"
   },
   "outputs": [],
   "source": [
    "X_train.shape"
   ]
  },
  {
   "cell_type": "code",
   "execution_count": null,
   "metadata": {
    "colab": {
     "base_uri": "https://localhost:8080/"
    },
    "id": "o1f1tnK00tX6",
    "outputId": "52d4b126-3c08-47a7-b652-8caf5a3209d3"
   },
   "outputs": [],
   "source": [
    "X_test.shape"
   ]
  },
  {
   "cell_type": "code",
   "execution_count": null,
   "metadata": {
    "colab": {
     "base_uri": "https://localhost:8080/",
     "height": 447
    },
    "id": "L9PSC5Qd0wGl",
    "outputId": "ec6c5023-ccf8-4404-e803-d01e71b4acb0"
   },
   "outputs": [],
   "source": [
    "X_train[:10]"
   ]
  },
  {
   "cell_type": "code",
   "execution_count": null,
   "metadata": {
    "colab": {
     "base_uri": "https://localhost:8080/"
    },
    "id": "e5xYHAi30z93",
    "outputId": "9d669ee4-a3ef-4967-f80b-a512be1e5c24"
   },
   "outputs": [],
   "source": [
    "len(X_train.columns)"
   ]
  },
  {
   "cell_type": "code",
   "execution_count": null,
   "metadata": {
    "colab": {
     "base_uri": "https://localhost:8080/"
    },
    "id": "TY7Jt9XN06VS",
    "outputId": "87314b27-8b5d-45d0-8acc-56c6c92e753a"
   },
   "outputs": [],
   "source": [
    "# Build ANN\n",
    "import tensorflow as tf\n",
    "from tensorflow import keras\n",
    "\n",
    "\n",
    "model = keras.Sequential([\n",
    "    keras.layers.Dense(26, input_shape=(26,), activation='relu'),\n",
    "    keras.layers.Dense(15, activation='relu'),\n",
    "    keras.layers.Dense(1, activation='sigmoid')\n",
    "])\n",
    "\n",
    "model.compile(\n",
    "    optimizer='adam',\n",
    "    loss='binary_crossentropy',\n",
    "    metrics=['accuracy']\n",
    ")\n",
    "\n",
    "model.fit(X_train, y_train, epochs=100)"
   ]
  },
  {
   "cell_type": "code",
   "execution_count": null,
   "metadata": {
    "colab": {
     "base_uri": "https://localhost:8080/"
    },
    "id": "MqWTH3Wz2KCe",
    "outputId": "f27fbe43-aad8-4af0-8c88-15e4ee35b4f3"
   },
   "outputs": [],
   "source": [
    "model.evaluate(X_test,y_test)"
   ]
  },
  {
   "cell_type": "code",
   "execution_count": null,
   "metadata": {
    "colab": {
     "base_uri": "https://localhost:8080/"
    },
    "id": "Y4N91dEV2wVj",
    "outputId": "4bb5ec42-8183-44d8-cc78-cb209e13001b"
   },
   "outputs": [],
   "source": [
    "yp = model.predict(X_test)\n",
    "yp[:5]"
   ]
  },
  {
   "cell_type": "code",
   "execution_count": null,
   "metadata": {
    "id": "Mk9QaS3Y29T_"
   },
   "outputs": [],
   "source": [
    "y_pred = []\n",
    "\n",
    "for element in yp:\n",
    "    if element > 0.5:\n",
    "        y_pred.append(1)\n",
    "    else:\n",
    "        y_pred.append(0)"
   ]
  },
  {
   "cell_type": "code",
   "execution_count": null,
   "metadata": {
    "colab": {
     "base_uri": "https://localhost:8080/"
    },
    "id": "2VBhuH_y3R6g",
    "outputId": "059d96a5-e05b-4084-80d1-71a6436b74c3"
   },
   "outputs": [],
   "source": [
    "y_pred[:10]"
   ]
  },
  {
   "cell_type": "code",
   "execution_count": null,
   "metadata": {
    "colab": {
     "base_uri": "https://localhost:8080/"
    },
    "id": "FoRVhFtM3UX2",
    "outputId": "d09ab39f-0d1f-42fd-bd28-480a6fd869a9"
   },
   "outputs": [],
   "source": [
    "y_test[:10]"
   ]
  },
  {
   "cell_type": "code",
   "execution_count": null,
   "metadata": {
    "colab": {
     "base_uri": "https://localhost:8080/"
    },
    "id": "No95iL5C3X0E",
    "outputId": "84722d92-9227-461b-bcd0-66f4296e8fd1"
   },
   "outputs": [],
   "source": [
    "from sklearn.metrics import confusion_matrix, classification_report\n",
    "\n",
    "print(classification_report(y_test,y_pred))"
   ]
  },
  {
   "cell_type": "code",
   "execution_count": null,
   "metadata": {
    "colab": {
     "base_uri": "https://localhost:8080/",
     "height": 637
    },
    "id": "NfqDNWYn3rOl",
    "outputId": "18f756df-ea75-4dd8-eb56-92786e6c944c"
   },
   "outputs": [],
   "source": [
    "import seaborn as sn\n",
    "cm = tf.math.confusion_matrix(labels=y_test,predictions=y_pred)\n",
    "\n",
    "plt.figure(figsize = (10,7))\n",
    "sn.heatmap(cm, annot=True, fmt='d')\n",
    "plt.xlabel('Predicted')\n",
    "plt.ylabel('Truth')"
   ]
  },
  {
   "cell_type": "markdown",
   "metadata": {
    "id": "F4HR7mNU8t2j"
   },
   "source": [
    "Handling Imbalance Data"
   ]
  },
  {
   "cell_type": "code",
   "execution_count": null,
   "metadata": {
    "colab": {
     "base_uri": "https://localhost:8080/"
    },
    "id": "_XxOKGTO_c8k",
    "outputId": "d49c6f10-b975-436b-919e-f81da999bbfc"
   },
   "outputs": [],
   "source": [
    "!pip install tensorflow_addons"
   ]
  },
  {
   "cell_type": "code",
   "execution_count": null,
   "metadata": {
    "colab": {
     "base_uri": "https://localhost:8080/"
    },
    "id": "gfi0jbLl_74I",
    "outputId": "fdc02756-211f-4beb-f34f-86c28158ac1e"
   },
   "outputs": [],
   "source": [
    "from tensorflow_addons import losses"
   ]
  },
  {
   "cell_type": "code",
   "execution_count": null,
   "metadata": {
    "id": "QnMz-NSo__on"
   },
   "outputs": [],
   "source": [
    "import tensorflow as tf\n",
    "from tensorflow import keras\n",
    "from sklearn.metrics import confusion_matrix , classification_report"
   ]
  },
  {
   "cell_type": "code",
   "execution_count": null,
   "metadata": {
    "id": "PeoHu9dNADbl"
   },
   "outputs": [],
   "source": [
    "def ANN(X_train, y_train, X_test, y_test, loss, weights):\n",
    "    model = keras.Sequential([\n",
    "        keras.layers.Dense(26, input_dim=26, activation='relu'),\n",
    "        keras.layers.Dense(15, activation='relu'),\n",
    "        keras.layers.Dense(1, activation='sigmoid')\n",
    "    ])\n",
    "\n",
    "    model.compile(optimizer='adam', loss=loss, metrics=['accuracy'])\n",
    "\n",
    "    if weights == -1:\n",
    "        model.fit(X_train, y_train, epochs=100)\n",
    "    else:\n",
    "        model.fit(X_train, y_train, epochs=100, class_weight = weights)\n",
    "\n",
    "    print(model.evaluate(X_test, y_test))\n",
    "\n",
    "    y_preds = model.predict(X_test)\n",
    "    y_preds = np.round(y_preds)\n",
    "\n",
    "    print(\"Classification Report: \\n\", classification_report(y_test, y_preds))\n",
    "\n",
    "    return y_preds"
   ]
  },
  {
   "cell_type": "markdown",
   "metadata": {
    "id": "HXsF_nc3BSCw"
   },
   "source": [
    "**Method 1: Under Sampling**"
   ]
  },
  {
   "cell_type": "code",
   "execution_count": null,
   "metadata": {
    "colab": {
     "base_uri": "https://localhost:8080/"
    },
    "id": "iK57W0lq4GAD",
    "outputId": "5d7d356b-a13c-4172-de45-be022561693f"
   },
   "outputs": [],
   "source": [
    "count_class_0, count_class_1 = df1.Churn.value_counts()\n",
    "\n",
    "df_class_0 = df2[df2['Churn']== 0]\n",
    "df_class_1 = df2[df2['Churn']== 1]\n",
    "df1.Churn.value_counts()"
   ]
  },
  {
   "cell_type": "code",
   "execution_count": null,
   "metadata": {
    "colab": {
     "base_uri": "https://localhost:8080/"
    },
    "id": "kJooLG-Y9JCO",
    "outputId": "658309ec-d962-4b67-b894-bede9f1ed26e"
   },
   "outputs": [],
   "source": [
    "df_class_0_under = df_class_0.sample(count_class_1)\n",
    "df_test_under = pd.concat([df_class_0_under, df_class_1], axis=0)\n",
    "\n",
    "print('Random under-sampling:')\n",
    "print(df_test_under.Churn.value_counts())"
   ]
  },
  {
   "cell_type": "code",
   "execution_count": null,
   "metadata": {
    "id": "2VjL6vaM-lZ_"
   },
   "outputs": [],
   "source": [
    "X = df_test_under.drop('Churn',axis='columns')\n",
    "y = df_test_under['Churn']\n",
    "\n",
    "from sklearn.model_selection import train_test_split\n",
    "X_train, X_test, y_train, y_test = train_test_split(X, y, test_size=0.2, random_state=15, stratify=y)"
   ]
  },
  {
   "cell_type": "code",
   "execution_count": null,
   "metadata": {
    "colab": {
     "base_uri": "https://localhost:8080/"
    },
    "id": "Ys5N6c5M--He",
    "outputId": "1ad27819-2388-483d-9919-6053f3f934ce"
   },
   "outputs": [],
   "source": [
    "y_train.value_counts()"
   ]
  },
  {
   "cell_type": "code",
   "execution_count": null,
   "metadata": {
    "colab": {
     "base_uri": "https://localhost:8080/"
    },
    "id": "SXdLhTPL_D9b",
    "outputId": "a745ad85-de36-4109-87c9-e24ef4d3f446"
   },
   "outputs": [],
   "source": [
    "y_preds = ANN(X_train, y_train, X_test, y_test, 'binary_crossentropy', -1)"
   ]
  },
  {
   "cell_type": "markdown",
   "metadata": {
    "id": "22L9wmfOBaF-"
   },
   "source": [
    "**Method 2: Over Sampling**"
   ]
  },
  {
   "cell_type": "code",
   "execution_count": null,
   "metadata": {
    "colab": {
     "base_uri": "https://localhost:8080/"
    },
    "id": "TD4YRtuOAcjU",
    "outputId": "753c4792-3d32-46ef-ae02-e632fb390b92"
   },
   "outputs": [],
   "source": [
    "df_class_1_over = df_class_1.sample(count_class_0, replace=True)\n",
    "df_test_over = pd.concat([df_class_0,df_class_1_over], axis=0)\n",
    "\n",
    "print('Random over-sampling')\n",
    "print(df_test_over.Churn.value_counts())"
   ]
  },
  {
   "cell_type": "code",
   "execution_count": null,
   "metadata": {
    "id": "SUoj66nzCCl_"
   },
   "outputs": [],
   "source": [
    "X = df_test_over.drop('Churn',axis='columns')\n",
    "y = df_test_over['Churn']\n",
    "\n",
    "from sklearn.model_selection import train_test_split\n",
    "X_train, X_test, y_train, y_test = train_test_split(X, y, test_size=0.2, random_state=15, stratify=y)"
   ]
  },
  {
   "cell_type": "code",
   "execution_count": null,
   "metadata": {
    "colab": {
     "base_uri": "https://localhost:8080/"
    },
    "id": "v4B_pDZtC1OA",
    "outputId": "9deb9b6b-5f83-4fd3-f4ff-c6fe1c0fcfa2"
   },
   "outputs": [],
   "source": [
    "y_train.value_counts()"
   ]
  },
  {
   "cell_type": "code",
   "execution_count": null,
   "metadata": {
    "colab": {
     "base_uri": "https://localhost:8080/"
    },
    "id": "ZGmp8s82C5AV",
    "outputId": "8de8cf59-b95e-4890-e806-055b788e6d18"
   },
   "outputs": [],
   "source": [
    "loss = keras.losses.BinaryCrossentropy()\n",
    "weights = -1\n",
    "y_preds = ANN(X_train, y_train, X_test, y_test, 'binary_crossentropy', -1)"
   ]
  },
  {
   "cell_type": "markdown",
   "metadata": {
    "id": "GdyrJX0DDjcg"
   },
   "source": [
    "**Method 3: SMOTE**"
   ]
  },
  {
   "cell_type": "code",
   "execution_count": null,
   "metadata": {
    "id": "mEjuur5nD5q-"
   },
   "outputs": [],
   "source": [
    "X = df2.drop('Churn',axis='columns')\n",
    "y = df2['Churn']"
   ]
  },
  {
   "cell_type": "code",
   "execution_count": null,
   "metadata": {
    "colab": {
     "base_uri": "https://localhost:8080/"
    },
    "id": "VD5wd8y0DDtp",
    "outputId": "bb88729c-1c76-46ed-c9e5-caf9bca3bb19"
   },
   "outputs": [],
   "source": [
    "from imblearn.over_sampling import SMOTE\n",
    "\n",
    "smote = SMOTE(sampling_strategy='minority')\n",
    "X_sm,y_sm = smote.fit_resample(X,y)\n",
    "\n",
    "y_sm.value_counts()"
   ]
  },
  {
   "cell_type": "code",
   "execution_count": null,
   "metadata": {
    "id": "n-qWefaCDxK7"
   },
   "outputs": [],
   "source": [
    "from sklearn.model_selection import train_test_split\n",
    "\n",
    "X_train,X_test,y_train,y_test = train_test_split(X_sm,y_sm,test_size=0.2, random_state=15, stratify=y_sm)"
   ]
  },
  {
   "cell_type": "code",
   "execution_count": null,
   "metadata": {
    "colab": {
     "base_uri": "https://localhost:8080/"
    },
    "id": "Sw4jzLHzFItI",
    "outputId": "51af9502-f94b-4d72-bc00-a768903f7f52"
   },
   "outputs": [],
   "source": [
    "y_train.value_counts()"
   ]
  },
  {
   "cell_type": "code",
   "execution_count": null,
   "metadata": {
    "colab": {
     "base_uri": "https://localhost:8080/"
    },
    "id": "m2G37a6YFMAt",
    "outputId": "5df90fd1-218e-413a-d307-703e2fb8dad1"
   },
   "outputs": [],
   "source": [
    "y_preds = ANN(X_train,y_train,X_test,y_test,'binary_crossentropy', -1)"
   ]
  },
  {
   "cell_type": "markdown",
   "metadata": {
    "id": "cG_W4vVbVngC"
   },
   "source": [
    "Method 4: Ensemble with Undersampling"
   ]
  },
  {
   "cell_type": "code",
   "execution_count": null,
   "metadata": {
    "colab": {
     "base_uri": "https://localhost:8080/"
    },
    "id": "dTSrb1VYT6V_",
    "outputId": "78a65300-7aca-4e88-b1e9-2b495ce41d09"
   },
   "outputs": [],
   "source": [
    "df2.Churn.value_counts()"
   ]
  },
  {
   "cell_type": "code",
   "execution_count": null,
   "metadata": {
    "id": "Bt-iJ3QvWMdq"
   },
   "outputs": [],
   "source": [
    "X = df2.drop('Churn',axis='columns')\n",
    "y = df2['Churn']"
   ]
  },
  {
   "cell_type": "code",
   "execution_count": null,
   "metadata": {
    "id": "ZzLrp72VWcCP"
   },
   "outputs": [],
   "source": [
    "from tensorflow.python import train\n",
    "from sklearn.model_selection import train_test_split\n",
    "X_train,X_test,y_train,y_test = train_test_split(X,y,test_size=0.2, random_state=15, stratify=y)"
   ]
  },
  {
   "cell_type": "code",
   "execution_count": null,
   "metadata": {
    "colab": {
     "base_uri": "https://localhost:8080/"
    },
    "id": "ODSahOfJW2I6",
    "outputId": "3f792e5c-1bc3-40b4-c7a3-9e55028d7087"
   },
   "outputs": [],
   "source": [
    "y_train.value_counts()"
   ]
  },
  {
   "cell_type": "markdown",
   "metadata": {
    "id": "mBUbWpmqXBcF"
   },
   "source": [
    "model1 --> class1(1495) + class0(0, 1495)\n",
    "\n",
    "model2 --> class1(1495) + class0(1496, 2990)\n",
    "\n",
    "model3 --> class1(1495) + class0(2990, 4130)"
   ]
  },
  {
   "cell_type": "code",
   "execution_count": null,
   "metadata": {
    "id": "JWDozoHVW5U9"
   },
   "outputs": [],
   "source": [
    "df3 = X_train.copy()\n",
    "df3['Churn'] = y_train"
   ]
  },
  {
   "cell_type": "code",
   "execution_count": null,
   "metadata": {
    "colab": {
     "base_uri": "https://localhost:8080/",
     "height": 290
    },
    "id": "hyhbCnnyXYX-",
    "outputId": "d79d9fa7-f9ed-4194-a073-0cbbe0d96b17"
   },
   "outputs": [],
   "source": [
    "df3.head()"
   ]
  },
  {
   "cell_type": "code",
   "execution_count": null,
   "metadata": {
    "id": "h7UQjKbIXbGD"
   },
   "outputs": [],
   "source": [
    "df3_class0 = df3[df3.Churn==0]\n",
    "df3_class1 = df3[df3.Churn==1]"
   ]
  },
  {
   "cell_type": "code",
   "execution_count": null,
   "metadata": {
    "id": "2bIRTW9LXtug"
   },
   "outputs": [],
   "source": [
    "def get_train_batch(df_majority, df_minority, start, end):\n",
    "    df_train = pd.concat([df_majority[start:end], df_minority], axis=0)\n",
    "\n",
    "    X_train = df_train.drop('Churn',axis='columns')\n",
    "    y_train = df.Churn\n",
    "    return X_train, y_train\n"
   ]
  },
  {
   "cell_type": "code",
   "execution_count": null,
   "metadata": {
    "colab": {
     "base_uri": "https://localhost:8080/",
     "height": 478
    },
    "id": "tDbCSLdIiaOY",
    "outputId": "939d59fd-f201-4f02-922d-c757ee67931d"
   },
   "outputs": [],
   "source": [
    "X_train,y_train = get_train_batch(df3_class0,df3_class1,0,1495)\n",
    "X_train"
   ]
  },
  {
   "cell_type": "code",
   "execution_count": null,
   "metadata": {
    "colab": {
     "base_uri": "https://localhost:8080/"
    },
    "id": "SUm4ORRUYPtj",
    "outputId": "3aa0ff7e-4a20-438d-a498-ac1d6cba9c0f"
   },
   "outputs": [],
   "source": [
    "X_train_b,y_train_b = get_train_batch(df3_class0,df3_class1,0,1495)\n",
    "\n",
    "y_pred1 = ANN(X_train,y_train,X_test,y_test,'binary_crossentropy',-1)"
   ]
  },
  {
   "cell_type": "code",
   "execution_count": null,
   "metadata": {
    "colab": {
     "base_uri": "https://localhost:8080/"
    },
    "id": "29yysuSIYVnB",
    "outputId": "1e0ddc07-9cea-4d08-e287-cb28f26ea155"
   },
   "outputs": [],
   "source": [
    "get_train_batch(df3_class0,df3_class1,1495,2990)\n",
    "\n",
    "y_pred2 = ANN(X_train,y_train,X_test,y_test,'binary_crossentropy',-1)"
   ]
  },
  {
   "cell_type": "code",
   "execution_count": null,
   "metadata": {
    "colab": {
     "base_uri": "https://localhost:8080/"
    },
    "id": "D_yWFoXsZtgS",
    "outputId": "8d7b256e-d057-40a4-cac9-ff30160cd1b4"
   },
   "outputs": [],
   "source": [
    "get_train_batch(df3_class0,df3_class1,2990,4130)\n",
    "\n",
    "y_pred3 = ANN(X_train,y_train,X_test,y_test,'binary_crossentropy',-1)"
   ]
  },
  {
   "cell_type": "code",
   "execution_count": null,
   "metadata": {
    "colab": {
     "base_uri": "https://localhost:8080/"
    },
    "id": "tcJkQrxlates",
    "outputId": "6b29a6fb-4d11-435a-9673-575001cee4bb"
   },
   "outputs": [],
   "source": [
    "len(y_pred1)"
   ]
  },
  {
   "cell_type": "code",
   "execution_count": null,
   "metadata": {
    "id": "ngKMYQ3KaDfE"
   },
   "outputs": [],
   "source": [
    "y_pred_final = y_pred1.copy()\n",
    "for i in range(len(y_pred1)):\n",
    "    n_ones = y_pred1[i] + y_pred2[i] +y_pred3[i]\n",
    "    if n_ones>1:\n",
    "        y_pred_final[i] = 1\n",
    "    else:\n",
    "        y_pred_final[i] = 0"
   ]
  },
  {
   "cell_type": "code",
   "execution_count": null,
   "metadata": {
    "colab": {
     "base_uri": "https://localhost:8080/"
    },
    "id": "Xd5DLxX8bmxj",
    "outputId": "9748b642-7426-437e-cff6-3b488bb2e4b9"
   },
   "outputs": [],
   "source": [
    "cl_rep = classification_report(y_test, y_pred_final)\n",
    "print(cl_rep)"
   ]
  },
  {
   "cell_type": "code",
   "execution_count": null,
   "metadata": {
    "id": "CiCZUf9tbxl_"
   },
   "outputs": [],
   "source": []
  }
 ],
 "metadata": {
  "colab": {
   "provenance": []
  },
  "kernelspec": {
   "display_name": "Python 3 (ipykernel)",
   "language": "python",
   "name": "python3"
  },
  "language_info": {
   "codemirror_mode": {
    "name": "ipython",
    "version": 3
   },
   "file_extension": ".py",
   "mimetype": "text/x-python",
   "name": "python",
   "nbconvert_exporter": "python",
   "pygments_lexer": "ipython3",
   "version": "3.9.13"
  }
 },
 "nbformat": 4,
 "nbformat_minor": 1
}
